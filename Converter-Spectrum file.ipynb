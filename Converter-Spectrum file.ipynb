{
 "cells": [
  {
   "cell_type": "code",
   "execution_count": 1,
   "id": "dfbd3f0f",
   "metadata": {},
   "outputs": [],
   "source": [
    "# Created 2015, Zack Gainsforth\n",
    "import matplotlib.pyplot as plt\n",
    "import numpy as np\n",
    "from skimage import filters\n",
    "from skimage.transform import resize\n",
    "import os, sys\n",
    "import warnings\n",
    "with warnings.catch_warnings():\n",
    "    warnings.simplefilter(\"ignore\")\n",
    "    import tifffile as tif\n",
    "    # Yeah, that's stupid huh?  tifffile always returns warnings so ignore them.\n",
    "import argparse"
   ]
  },
  {
   "cell_type": "code",
   "execution_count": 2,
   "id": "8ec4031c",
   "metadata": {},
   "outputs": [],
   "source": [
    "\n",
    "# This function combines the RGB and the luminance images to make the LRGB.\n",
    "def CombineImages(lum, rgb, smooth=0, decontrasting_ratio=2):\n",
    "    # Make an output image.\n",
    "    q = np.copy(rgb)\n",
    "\n",
    "    # Decontrast the RGB\n",
    "    # Note the current RGB range.\n",
    "    qmin = np.min(q); qmax = np.max(q); qrange=qmax-qmin; qmid=qrange/2+qmin\n",
    "    # A decontrast ratio of 3 will squish the range to 1/3.\n",
    "    q /= decontrasting_ratio \n",
    "    # Recenter the values so they are near the midrange.\n",
    "    q += qmid - qmid/decontrasting_ratio\n",
    "    \n",
    "    # If there is smoothing, then apply it.\n",
    "    if smooth > 0:\n",
    "        q[:,:,0] = filters.gaussian(q[:,:,0], sigma=smooth)\n",
    "        q[:,:,1] = filters.gaussian(q[:,:,1], sigma=smooth)\n",
    "        q[:,:,2] = filters.gaussian(q[:,:,2], sigma=smooth)\n",
    "        \n",
    "    # Combine with the luminance image.\n",
    "    q[:,:,0] *= lum\n",
    "    q[:,:,1] *= lum\n",
    "    q[:,:,2] *= lum\n",
    "    \n",
    "    #Normalize for 8-bit RGB (currently we are using floats).\n",
    "    q[:,:,0] -= np.min(np.min(q[:,:,0]))\n",
    "    q[:,:,1] -= np.min(np.min(q[:,:,1]))\n",
    "    q[:,:,2] -= np.min(np.min(q[:,:,2]))\n",
    "    q[:,:,0] /= np.max(np.max(q[:,:,0]))/255\n",
    "    q[:,:,1] /= np.max(np.max(q[:,:,1]))/255\n",
    "    q[:,:,2] /= np.max(np.max(q[:,:,2]))/255\n",
    "    \n",
    "    # Convert to 8-bit RGB and return both the raw float data and the 8-bit data.\n",
    "    return q, q.astype('uint8')"
   ]
  },
  {
   "cell_type": "code",
   "execution_count": 3,
   "id": "c19e7e96",
   "metadata": {},
   "outputs": [
    {
     "name": "stderr",
     "output_type": "stream",
     "text": [
      "usage: ipykernel_launcher.py [-h] [--smooth SMOOTH] [--decontrast DECONTRAST]\n",
      "                             [--output OUTPUT]\n",
      "                             Luminance.tif RGB.tif\n",
      "ipykernel_launcher.py: error: the following arguments are required: RGB.tif\n"
     ]
    },
    {
     "ename": "SystemExit",
     "evalue": "2",
     "output_type": "error",
     "traceback": [
      "An exception has occurred, use %tb to see the full traceback.\n",
      "\u001b[0;31mSystemExit\u001b[0m\u001b[0;31m:\u001b[0m 2\n"
     ]
    },
    {
     "name": "stderr",
     "output_type": "stream",
     "text": [
      "/opt/miniconda3/lib/python3.9/site-packages/IPython/core/interactiveshell.py:3452: UserWarning: To exit: use 'exit', 'quit', or Ctrl-D.\n",
      "  warn(\"To exit: use 'exit', 'quit', or Ctrl-D.\", stacklevel=1)\n"
     ]
    }
   ],
   "source": [
    "if __name__ == '__main__':\n",
    "    \n",
    "    parser = argparse.ArgumentParser(description='MakeLRGB produces an LRGB from a luminance and RGB image.')\n",
    "    parser.add_argument('--smooth', '-s', type=float, default=1.0, help='A number >= 0.0 and gives the 1-sigma length in pixels for a gaussian smoothing function applied to the RGB image before combining it with the luminance image.  0 means no smoothing.')\n",
    "    parser.add_argument('--decontrast', '-d', type=float, default=1.0, help='A number > 1.0 compresses the range of the RGB image around the center value in order to reduce it\\'s effect on the final image brightness.  Values between 2 and 4 usually produce good results.')\n",
    "    parser.add_argument('--output', '-o', type=str, default='noname', help='Output file name for LRGB image.  The default is built from the luminance and RGB file names.')\n",
    "    parser.add_argument('Luminance', metavar='Luminance.tif', type=str, help='Luminance image in tif format')\n",
    "    parser.add_argument('RGB', metavar='RGB.tif', type=str, help='RGB image in tif format')\n",
    "    args = parser.parse_args()\n",
    "    if args.output == 'noname':\n",
    "        args.output = f'{os.path.splitext(args.Luminance)[0]}_{os.path.splitext(args.RGB)[0]}.tif'\n",
    "\n",
    "    # # Read in the input images.\n",
    "    lum = tif.imread(args.Luminance).astype('float')\n",
    "    rgb = tif.imread(args.RGB).astype('float')\n",
    "    \n",
    "    # Often the RGB is binned relative to the luminance image.  If it is a simple integer binning then just scale it up. \n",
    "    if (lum.shape[0] != rgb.shape[0]) or (lum.shape[1] != rgb.shape[1]):\n",
    "        print('Resizing RGB image to match luminance image.')\n",
    "        rgb = resize(rgb, (lum.shape[0], lum.shape[1], rgb.shape[2]))\n",
    "\n",
    "    # Make the LRGB.\n",
    "    qf, qi = CombineImages(lum, rgb, smooth=args.smooth, decontrasting_ratio=args.decontrast)\n",
    "    \n",
    "    # Save the LRGB to disk.\n",
    "    tif.imsave(args.output, qi)\n",
    "    \n",
    "    # Show it to the user.\n",
    "    plt.imshow(qi)\n",
    "    plt.show()\n"
   ]
  },
  {
   "cell_type": "code",
   "execution_count": null,
   "id": "344c44a0",
   "metadata": {},
   "outputs": [],
   "source": [
    "numpy.savetext "
   ]
  }
 ],
 "metadata": {
  "kernelspec": {
   "display_name": "Python 3 (ipykernel)",
   "language": "python",
   "name": "python3"
  },
  "language_info": {
   "codemirror_mode": {
    "name": "ipython",
    "version": 3
   },
   "file_extension": ".py",
   "mimetype": "text/x-python",
   "name": "python",
   "nbconvert_exporter": "python",
   "pygments_lexer": "ipython3",
   "version": "3.7.9"
  }
 },
 "nbformat": 4,
 "nbformat_minor": 5
}
